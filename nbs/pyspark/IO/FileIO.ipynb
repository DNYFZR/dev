{
 "cells": [
  {
   "cell_type": "code",
   "execution_count": 1,
   "metadata": {},
   "outputs": [],
   "source": [
    "from pyspark import SparkConf, SparkContext\n",
    "from pyspark.sql import SparkSession, functions as F"
   ]
  },
  {
   "cell_type": "code",
   "execution_count": 2,
   "metadata": {},
   "outputs": [],
   "source": [
    "conf = ( SparkConf()\n",
    "         .setMaster(\"local\")\n",
    "         .setAppName(\"dev\")\n",
    "         .set(\"spark.executor.memory\", \"2g\") )\n",
    "\n",
    "sc = SparkContext(conf = conf)\n",
    "spark = SparkSession(sparkContext=sc)"
   ]
  },
  {
   "cell_type": "markdown",
   "metadata": {},
   "source": [
    "---\n",
    "\n",
    "### CSV"
   ]
  },
  {
   "cell_type": "code",
   "execution_count": 3,
   "metadata": {},
   "outputs": [
    {
     "name": "stdout",
     "output_type": "stream",
     "text": [
      "root\n",
      " |-- model_iteration: integer (nullable = true)\n",
      " |-- model: string (nullable = true)\n",
      " |-- id: string (nullable = true)\n",
      " |-- state: integer (nullable = true)\n",
      " |-- converter: integer (nullable = true)\n",
      "\n"
     ]
    },
    {
     "data": {
      "text/plain": [
       "1000000"
      ]
     },
     "execution_count": 3,
     "metadata": {},
     "output_type": "execute_result"
    }
   ],
   "source": [
    "df = spark.read.csv('../data/weibull_data_1m.csv', header=True, inferSchema=True)\n",
    "\n",
    "df.printSchema()\n",
    "df.count()"
   ]
  },
  {
   "cell_type": "code",
   "execution_count": 4,
   "metadata": {},
   "outputs": [],
   "source": [
    "df.write.csv('storage/test.csv', mode='overwrite')"
   ]
  },
  {
   "cell_type": "code",
   "execution_count": 5,
   "metadata": {},
   "outputs": [
    {
     "name": "stdout",
     "output_type": "stream",
     "text": [
      "root\n",
      " |-- _c0: string (nullable = true)\n",
      " |-- _c1: string (nullable = true)\n",
      " |-- _c2: string (nullable = true)\n",
      " |-- _c3: string (nullable = true)\n",
      " |-- _c4: string (nullable = true)\n",
      "\n",
      "+---+-------+---+---+----+\n",
      "|_c0|    _c1|_c2|_c3| _c4|\n",
      "+---+-------+---+---+----+\n",
      "|  1|default|  a|  0|1000|\n",
      "|  1|default|  b| 10|2000|\n",
      "|  1|default|  c| 15|3000|\n",
      "|  1|default|  d| 12|2000|\n",
      "|  1|default|  e| 55|4000|\n",
      "+---+-------+---+---+----+\n",
      "only showing top 5 rows\n",
      "\n"
     ]
    }
   ],
   "source": [
    "tst = spark.read.csv('storage/test.csv')\n",
    "\n",
    "tst.printSchema()\n",
    "tst.show(5)"
   ]
  },
  {
   "cell_type": "markdown",
   "metadata": {},
   "source": [
    "---\n",
    "\n",
    "### Parquet"
   ]
  },
  {
   "cell_type": "code",
   "execution_count": 6,
   "metadata": {},
   "outputs": [
    {
     "name": "stdout",
     "output_type": "stream",
     "text": [
      "root\n",
      " |-- model_iteration: integer (nullable = true)\n",
      " |-- model: string (nullable = true)\n",
      " |-- id: string (nullable = true)\n",
      " |-- state: integer (nullable = true)\n",
      " |-- converter: integer (nullable = true)\n",
      "\n"
     ]
    },
    {
     "data": {
      "text/plain": [
       "1000000"
      ]
     },
     "execution_count": 6,
     "metadata": {},
     "output_type": "execute_result"
    }
   ],
   "source": [
    "df_p = spark.read.parquet('storage/test.parquet')\n",
    "\n",
    "df_p.printSchema()\n",
    "df_p.count()"
   ]
  },
  {
   "cell_type": "code",
   "execution_count": 7,
   "metadata": {},
   "outputs": [],
   "source": [
    "df.write.parquet('storage/test.parquet', mode='overwrite')"
   ]
  },
  {
   "cell_type": "code",
   "execution_count": 8,
   "metadata": {},
   "outputs": [
    {
     "name": "stdout",
     "output_type": "stream",
     "text": [
      "root\n",
      " |-- model_iteration: integer (nullable = true)\n",
      " |-- model: string (nullable = true)\n",
      " |-- id: string (nullable = true)\n",
      " |-- state: integer (nullable = true)\n",
      " |-- converter: integer (nullable = true)\n",
      "\n",
      "+---------------+-------+---+-----+---------+\n",
      "|model_iteration|  model| id|state|converter|\n",
      "+---------------+-------+---+-----+---------+\n",
      "|              1|default|  a|    0|     1000|\n",
      "|              1|default|  b|   10|     2000|\n",
      "|              1|default|  c|   15|     3000|\n",
      "|              1|default|  d|   12|     2000|\n",
      "|              1|default|  e|   55|     4000|\n",
      "+---------------+-------+---+-----+---------+\n",
      "only showing top 5 rows\n",
      "\n"
     ]
    }
   ],
   "source": [
    "tst = spark.read.parquet('storage/test.parquet')\n",
    "\n",
    "tst.printSchema()\n",
    "tst.show(5)"
   ]
  }
 ],
 "metadata": {
  "kernelspec": {
   "display_name": "Python 3.10.8 ('spark_env')",
   "language": "python",
   "name": "python3"
  },
  "language_info": {
   "codemirror_mode": {
    "name": "ipython",
    "version": 3
   },
   "file_extension": ".py",
   "mimetype": "text/x-python",
   "name": "python",
   "nbconvert_exporter": "python",
   "pygments_lexer": "ipython3",
   "version": "3.10.8"
  },
  "orig_nbformat": 4,
  "vscode": {
   "interpreter": {
    "hash": "ea8f25c1d3f7bddbd260c3da27a9c8b14acf4b9920da654276c9bda822942c97"
   }
  }
 },
 "nbformat": 4,
 "nbformat_minor": 2
}
