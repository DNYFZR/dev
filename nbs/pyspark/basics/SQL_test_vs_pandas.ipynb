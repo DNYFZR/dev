{
 "cells": [
  {
   "cell_type": "markdown",
   "metadata": {},
   "source": [
    "<h3 align=\"center\"><b> PySpark SQL Test </b></h3>\n",
    "\n",
    "---\n",
    "\n",
    "- Taking a random dataset with ~800k rows\n",
    "- Scaling it up to ~50m rows\n",
    "- Spark SQL queries \n",
    "    - Value counts on each column (excl. key col)\n",
    "    - Joining count columns into single table \n",
    "- Transferring from Spark DF to Pandas DF  "
   ]
  },
  {
   "cell_type": "code",
   "execution_count": 1,
   "metadata": {},
   "outputs": [
    {
     "name": "stdout",
     "output_type": "stream",
     "text": [
      "3.2.2\n"
     ]
    }
   ],
   "source": [
    "import re, pyspark\n",
    "from time import time\n",
    "\n",
    "from pyspark import SparkConf, SparkContext\n",
    "from pyspark.sql import SparkSession, functions as F\n",
    "from pyspark.sql.types import IntegerType\n",
    "\n",
    "print(pyspark.__version__)"
   ]
  },
  {
   "cell_type": "code",
   "execution_count": 2,
   "metadata": {},
   "outputs": [],
   "source": [
    "conf = (SparkConf()\n",
    "         .setMaster(\"local\")\n",
    "         .setAppName(\"dev\")\n",
    "         .set(\"spark.executor.memory\", \"8g\")\n",
    "         .set(\"spark.sql.shuffle.partitions\", \"2000\")\n",
    "         .set(\"spark.default.parallelism\", \"2000\")\n",
    "         )\n",
    "\n",
    "sc = SparkContext(conf = conf)\n",
    "spark = SparkSession(sparkContext=sc)"
   ]
  },
  {
   "cell_type": "code",
   "execution_count": 3,
   "metadata": {},
   "outputs": [
    {
     "name": "stdout",
     "output_type": "stream",
     "text": [
      "Rows: 819200\n",
      "Columns: 6\n",
      "Schema:\n",
      "root\n",
      " |-- iter: integer (nullable = true)\n",
      " |-- t1: integer (nullable = true)\n",
      " |-- t2: integer (nullable = true)\n",
      " |-- t3: integer (nullable = true)\n",
      " |-- t4: integer (nullable = true)\n",
      " |-- t5: integer (nullable = true)\n",
      "\n"
     ]
    }
   ],
   "source": [
    "df = spark.read.csv('../data/random.csv', header=True, inferSchema=True)\n",
    "\n",
    "print(f\"Rows: {df.count()}\")\n",
    "print(f\"Columns: {len(df.columns)}\")\n",
    "print(\"Schema:\")\n",
    "df.printSchema()"
   ]
  },
  {
   "cell_type": "code",
   "execution_count": 4,
   "metadata": {},
   "outputs": [
    {
     "name": "stdout",
     "output_type": "stream",
     "text": [
      "Rows: 104857600\n"
     ]
    }
   ],
   "source": [
    "# Scale up DF\n",
    "for _ in range(7):\n",
    "    df = df.union(df)\n",
    "\n",
    "print(f\"Rows: {df.count()}\")"
   ]
  },
  {
   "cell_type": "code",
   "execution_count": 5,
   "metadata": {},
   "outputs": [
    {
     "name": "stdout",
     "output_type": "stream",
     "text": [
      "+-----+-------+-------+-------+-------+-------+\n",
      "|value|t1     |t2     |t3     |t4     |t5     |\n",
      "+-----+-------+-------+-------+-------+-------+\n",
      "|1    |1064960|null   |null   |null   |null   |\n",
      "|2    |991232 |1064960|null   |null   |null   |\n",
      "|3    |958464 |991232 |1064960|null   |null   |\n",
      "|4    |1130496|958464 |991232 |1064960|null   |\n",
      "|5    |1040384|1130496|958464 |991232 |1064960|\n",
      "|6    |958464 |1040384|1130496|958464 |991232 |\n",
      "|7    |1212416|958464 |1040384|1130496|958464 |\n",
      "|8    |1032192|1212416|958464 |1040384|1130496|\n",
      "|9    |983040 |1032192|1212416|958464 |1040384|\n",
      "|10   |1146880|983040 |1032192|1212416|958464 |\n",
      "|11   |1040384|1146880|983040 |1032192|1212416|\n",
      "|12   |1064960|1040384|1146880|983040 |1032192|\n",
      "|13   |999424 |1064960|1040384|1146880|983040 |\n",
      "|14   |1179648|999424 |1064960|1040384|1146880|\n",
      "|15   |1015808|1179648|999424 |1064960|1040384|\n",
      "|16   |933888 |1015808|1179648|999424 |1064960|\n",
      "|17   |1081344|933888 |1015808|1179648|999424 |\n",
      "|18   |1089536|1081344|933888 |1015808|1179648|\n",
      "|19   |933888 |1089536|1081344|933888 |1015808|\n",
      "|20   |1089536|933888 |1089536|1081344|933888 |\n",
      "+-----+-------+-------+-------+-------+-------+\n",
      "only showing top 20 rows\n",
      "\n",
      "Run time : 1058.1 s\n"
     ]
    }
   ],
   "source": [
    "t = time()\n",
    "df.createOrReplaceTempView('table')\n",
    "\n",
    "iter_cols = [i for i in df.columns if re.match('t', i)]\n",
    "col = iter_cols[0]\n",
    "\n",
    "for col in iter_cols:\n",
    "    if col == iter_cols[0]:\n",
    "        q = spark.sql(f'''\n",
    "            SELECT {col} as value, COUNT({col}) as {col} \n",
    "            FROM table \n",
    "            GROUP BY {col}\n",
    "            ; ''')\n",
    "    else:\n",
    "        q.createOrReplaceTempView('query')\n",
    "        q = spark.sql(f'''\n",
    "            WITH tmp AS (SELECT {col} as value, COUNT({col}) as {col} \n",
    "            FROM table \n",
    "            GROUP BY {col}\n",
    "            ) \n",
    "            SELECT COALESCE(query.value, tmp.value) as co_{col}, query.*, tmp.{col}\n",
    "            FROM query\n",
    "            FULL JOIN tmp ON query.value = tmp.value\n",
    "            ; ''')\n",
    "\n",
    "drop_cols = [col for col in q.columns if re.match('co_', col)]\n",
    "\n",
    "# Unify key columns \n",
    "q = q.withColumn(\n",
    "        'value', \n",
    "        F.coalesce(*[q[f'{col}'] for col in drop_cols]\n",
    "    ).cast(IntegerType())\n",
    "    ).drop(*drop_cols)\n",
    "\n",
    "q.orderBy('value').show(truncate=False)\n",
    "print(f'''Run time : {round(time()-t, 1)} s''')"
   ]
  },
  {
   "cell_type": "code",
   "execution_count": 6,
   "metadata": {},
   "outputs": [
    {
     "name": "stdout",
     "output_type": "stream",
     "text": [
      "+-----+-------+-------+-------+-------+-------+\n",
      "|value|     t1|     t2|     t3|     t4|     t5|\n",
      "+-----+-------+-------+-------+-------+-------+\n",
      "|    1|1064960|   null|   null|   null|   null|\n",
      "|    2| 991232|1064960|   null|   null|   null|\n",
      "|    3| 958464| 991232|1064960|   null|   null|\n",
      "|    4|1130496| 958464| 991232|1064960|   null|\n",
      "|    5|1040384|1130496| 958464| 991232|1064960|\n",
      "|    6| 958464|1040384|1130496| 958464| 991232|\n",
      "|    7|1212416| 958464|1040384|1130496| 958464|\n",
      "|    8|1032192|1212416| 958464|1040384|1130496|\n",
      "|    9| 983040|1032192|1212416| 958464|1040384|\n",
      "|   10|1146880| 983040|1032192|1212416| 958464|\n",
      "|   11|1040384|1146880| 983040|1032192|1212416|\n",
      "|   12|1064960|1040384|1146880| 983040|1032192|\n",
      "|   13| 999424|1064960|1040384|1146880| 983040|\n",
      "|   14|1179648| 999424|1064960|1040384|1146880|\n",
      "|   15|1015808|1179648| 999424|1064960|1040384|\n",
      "|   16| 933888|1015808|1179648| 999424|1064960|\n",
      "|   17|1081344| 933888|1015808|1179648| 999424|\n",
      "|   18|1089536|1081344| 933888|1015808|1179648|\n",
      "|   19| 933888|1089536|1081344| 933888|1015808|\n",
      "|   20|1089536| 933888|1089536|1081344| 933888|\n",
      "+-----+-------+-------+-------+-------+-------+\n",
      "only showing top 20 rows\n",
      "\n",
      "Run time : 999.8 s\n"
     ]
    }
   ],
   "source": [
    "t = time()\n",
    "iter_cols = [i for i in df.columns if re.match('t', i)]\n",
    "col = iter_cols[0]\n",
    "\n",
    "for col in iter_cols:\n",
    "    if col == iter_cols[0]:\n",
    "        q = df.groupBy(col).count().withColumnRenamed(col, 'value').withColumnRenamed('count', col)\n",
    "    else:\n",
    "        temp = df.groupBy(col).count().withColumnRenamed(col, 'value').withColumnRenamed('count', col)\n",
    "        q = q.join(temp, how='outer', on='value')\n",
    "        q = q.withColumn('value', F.coalesce(temp['value'], q['value']).cast(IntegerType()))\n",
    "\n",
    "q.orderBy('value').show()\n",
    "print(f'''Run time : {round(time()-t, 1)} s''')"
   ]
  },
  {
   "cell_type": "code",
   "execution_count": 7,
   "metadata": {},
   "outputs": [],
   "source": [
    "spark.stop()"
   ]
  }
 ],
 "metadata": {
  "kernelspec": {
   "display_name": "Python 3.10.8 ('spark_env')",
   "language": "python",
   "name": "python3"
  },
  "language_info": {
   "codemirror_mode": {
    "name": "ipython",
    "version": 3
   },
   "file_extension": ".py",
   "mimetype": "text/x-python",
   "name": "python",
   "nbconvert_exporter": "python",
   "pygments_lexer": "ipython3",
   "version": "3.10.8"
  },
  "orig_nbformat": 4,
  "vscode": {
   "interpreter": {
    "hash": "ea8f25c1d3f7bddbd260c3da27a9c8b14acf4b9920da654276c9bda822942c97"
   }
  }
 },
 "nbformat": 4,
 "nbformat_minor": 2
}
