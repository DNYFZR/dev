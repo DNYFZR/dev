{
 "cells": [
  {
   "cell_type": "markdown",
   "metadata": {},
   "source": [
    "<h3 align=\"center\"><b> PySpark SQL Test </b></h3>\n",
    "\n",
    "---\n",
    "\n",
    "- Taking a random dataset with ~800k rows\n",
    "- Scaling it up to ~50m rows\n",
    "- Spark SQL queries \n",
    "    - Value counts on each column (excl. key col)\n",
    "    - Joining count columns into single table \n",
    "- Transferring from Spark DF to Pandas DF  "
   ]
  },
  {
   "cell_type": "code",
   "execution_count": 1,
   "metadata": {},
   "outputs": [
    {
     "name": "stdout",
     "output_type": "stream",
     "text": [
      "3.2.2\n"
     ]
    }
   ],
   "source": [
    "import re, pandas as pd, pyspark\n",
    "\n",
    "from pyspark import SparkConf, SparkContext\n",
    "from pyspark.sql import SparkSession\n",
    "\n",
    "print(pyspark.__version__)"
   ]
  },
  {
   "cell_type": "code",
   "execution_count": 2,
   "metadata": {},
   "outputs": [],
   "source": [
    "conf = (SparkConf()\n",
    "         .setMaster(\"local\")\n",
    "         .setAppName(\"dev\")\n",
    "         .set(\"spark.executor.memory\", \"8g\")\n",
    "         .set(\"spark.sql.shuffle.partitions\", \"1000\")\n",
    "         .set(\"spark.default.parallelism\", \"1000\")\n",
    "         )\n",
    "\n",
    "sc = SparkContext(conf = conf)\n",
    "spark = SparkSession(sparkContext=sc)"
   ]
  },
  {
   "cell_type": "code",
   "execution_count": 3,
   "metadata": {},
   "outputs": [
    {
     "name": "stdout",
     "output_type": "stream",
     "text": [
      "Rows: 819200\n",
      "Columns: 6\n",
      "Schema:\n",
      "root\n",
      " |-- iter: integer (nullable = true)\n",
      " |-- t1: integer (nullable = true)\n",
      " |-- t2: integer (nullable = true)\n",
      " |-- t3: integer (nullable = true)\n",
      " |-- t4: integer (nullable = true)\n",
      " |-- t5: integer (nullable = true)\n",
      "\n"
     ]
    }
   ],
   "source": [
    "df = spark.read.csv('../data/random.csv', header=True, inferSchema=True)\n",
    "\n",
    "print(f\"Rows: {df.count()}\")\n",
    "print(f\"Columns: {len(df.columns)}\")\n",
    "print(\"Schema:\")\n",
    "df.printSchema()"
   ]
  },
  {
   "cell_type": "code",
   "execution_count": 4,
   "metadata": {},
   "outputs": [],
   "source": [
    "# Scale up DF\n",
    "for _ in range(6):\n",
    "    df = df.union(df)"
   ]
  },
  {
   "cell_type": "code",
   "execution_count": 5,
   "metadata": {},
   "outputs": [
    {
     "name": "stdout",
     "output_type": "stream",
     "text": [
      "Rows: 52428800\n",
      "Data frame memory : 1196.7 MB\n"
     ]
    }
   ],
   "source": [
    "use = (100 * df.sample(fraction=0.01).toPandas().memory_usage(deep=True)).sum() / 1024**2\n",
    "\n",
    "print(f\"Rows: {df.count()}\")\n",
    "print(f'Data frame memory : {round(use, 1)} MB')"
   ]
  },
  {
   "cell_type": "code",
   "execution_count": 6,
   "metadata": {},
   "outputs": [],
   "source": [
    "# Spark SQL aggregation\n",
    "df.createOrReplaceTempView('table')\n",
    "iter_cols = [i for i in df.columns if re.match('t', i)]\n",
    "\n",
    "for col in iter_cols:\n",
    "    temp_query = spark.sql(f'''\n",
    "            SELECT {col} as value, COUNT({col}) as {col} \n",
    "            FROM table\n",
    "            GROUP BY {col}; \n",
    "            ''')\n",
    "\n",
    "    if col == iter_cols[0]:\n",
    "        query = temp_query\n",
    "    else: \n",
    "        query = query.join(temp_query, on='value', how='outer')"
   ]
  },
  {
   "cell_type": "code",
   "execution_count": 7,
   "metadata": {},
   "outputs": [
    {
     "name": "stdout",
     "output_type": "stream",
     "text": [
      "+-----+------+------+------+------+------+\n",
      "|value|t1    |t2    |t3    |t4    |t5    |\n",
      "+-----+------+------+------+------+------+\n",
      "|1    |532480|null  |null  |null  |null  |\n",
      "|2    |495616|532480|null  |null  |null  |\n",
      "|3    |479232|495616|532480|null  |null  |\n",
      "|4    |565248|479232|495616|532480|null  |\n",
      "|5    |520192|565248|479232|495616|532480|\n",
      "|6    |479232|520192|565248|479232|495616|\n",
      "|7    |606208|479232|520192|565248|479232|\n",
      "|8    |516096|606208|479232|520192|565248|\n",
      "|9    |491520|516096|606208|479232|520192|\n",
      "|10   |573440|491520|516096|606208|479232|\n",
      "|11   |520192|573440|491520|516096|606208|\n",
      "|12   |532480|520192|573440|491520|516096|\n",
      "|13   |499712|532480|520192|573440|491520|\n",
      "|14   |589824|499712|532480|520192|573440|\n",
      "|15   |507904|589824|499712|532480|520192|\n",
      "|16   |466944|507904|589824|499712|532480|\n",
      "|17   |540672|466944|507904|589824|499712|\n",
      "|18   |544768|540672|466944|507904|589824|\n",
      "|19   |466944|544768|540672|466944|507904|\n",
      "|20   |544768|466944|544768|540672|466944|\n",
      "+-----+------+------+------+------+------+\n",
      "only showing top 20 rows\n",
      "\n"
     ]
    }
   ],
   "source": [
    "query.show(truncate=False)"
   ]
  },
  {
   "cell_type": "code",
   "execution_count": 8,
   "metadata": {},
   "outputs": [],
   "source": [
    "spark.stop()"
   ]
  }
 ],
 "metadata": {
  "kernelspec": {
   "display_name": "Python 3.10.8 ('spark_env')",
   "language": "python",
   "name": "python3"
  },
  "language_info": {
   "codemirror_mode": {
    "name": "ipython",
    "version": 3
   },
   "file_extension": ".py",
   "mimetype": "text/x-python",
   "name": "python",
   "nbconvert_exporter": "python",
   "pygments_lexer": "ipython3",
   "version": "3.10.8"
  },
  "orig_nbformat": 4,
  "vscode": {
   "interpreter": {
    "hash": "ea8f25c1d3f7bddbd260c3da27a9c8b14acf4b9920da654276c9bda822942c97"
   }
  }
 },
 "nbformat": 4,
 "nbformat_minor": 2
}
