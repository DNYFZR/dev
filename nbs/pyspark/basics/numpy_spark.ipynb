{
 "cells": [
  {
   "cell_type": "code",
   "execution_count": 1,
   "metadata": {},
   "outputs": [],
   "source": [
    "import re, numpy as np\n",
    "\n",
    "from pyspark import SparkConf, SparkContext\n",
    "from pyspark.sql import SparkSession, functions as F\n",
    "\n",
    "conf = ( SparkConf()\n",
    "         .setMaster(\"local\")\n",
    "         .setAppName(\"dev\")\n",
    "         .set(\"spark.executor.memory\", \"2g\") )\n",
    "\n",
    "sc = SparkContext(conf = conf)\n",
    "spark = SparkSession(sparkContext=sc)"
   ]
  },
  {
   "cell_type": "code",
   "execution_count": 2,
   "metadata": {},
   "outputs": [
    {
     "name": "stdout",
     "output_type": "stream",
     "text": [
      "root\n",
      " |-- iter: integer (nullable = true)\n",
      " |-- t1: integer (nullable = true)\n",
      " |-- t2: integer (nullable = true)\n",
      " |-- t3: integer (nullable = true)\n",
      " |-- t4: integer (nullable = true)\n",
      " |-- t5: integer (nullable = true)\n",
      "\n"
     ]
    },
    {
     "data": {
      "text/plain": [
       "819200"
      ]
     },
     "execution_count": 2,
     "metadata": {},
     "output_type": "execute_result"
    }
   ],
   "source": [
    "df = spark.read.csv('../data/random.csv', header=True, inferSchema=True)\n",
    "\n",
    "df.printSchema()\n",
    "df.count()"
   ]
  },
  {
   "cell_type": "code",
   "execution_count": 3,
   "metadata": {},
   "outputs": [
    {
     "name": "stdout",
     "output_type": "stream",
     "text": [
      "+----+---+---+---+---+---+\n",
      "|iter| t1| t2| t3| t4| t5|\n",
      "+----+---+---+---+---+---+\n",
      "|   1| 78| 79| 80| 81| 82|\n",
      "|   1| 32| 33| 34| 35| 36|\n",
      "|   1| 10| 11| 12| 13| 14|\n",
      "+----+---+---+---+---+---+\n",
      "only showing top 3 rows\n",
      "\n"
     ]
    }
   ],
   "source": [
    "df.show(3)"
   ]
  },
  {
   "cell_type": "code",
   "execution_count": 23,
   "metadata": {},
   "outputs": [
    {
     "name": "stdout",
     "output_type": "stream",
     "text": [
      "+----+---------+-------+-------+-------+-------+-------+\n",
      "|iter|sum(iter)|sum(t1)|sum(t2)|sum(t3)|sum(t4)|sum(t5)|\n",
      "+----+---------+-------+-------+-------+-------+-------+\n",
      "|   1|   102400|  51264|  52272|  53248|  54512|  55376|\n",
      "|   3|   614400| 102640| 104688| 106592| 108784| 110752|\n",
      "|   2|   204800|  51376|  52416|  53344|  54272|  55376|\n",
      "+----+---------+-------+-------+-------+-------+-------+\n",
      "only showing top 3 rows\n",
      "\n"
     ]
    }
   ],
   "source": [
    "x = df.rdd.map(lambda row: (row[0], *[1 if i > 50 else 0 for i in row[1:]])).toDF(df.columns)\n",
    "\n",
    "x = x.groupBy('iter').sum()\n",
    "x.show(3)"
   ]
  },
  {
   "cell_type": "code",
   "execution_count": 86,
   "metadata": {},
   "outputs": [
    {
     "data": {
      "text/plain": [
       "[0, 0, 0, 0, 0, 0, 0, 0, 1, 1, 1, 1]"
      ]
     },
     "execution_count": 86,
     "metadata": {},
     "output_type": "execute_result"
    }
   ],
   "source": [
    "a = np.array([1,2,3])\n",
    "b = [4,5,6]\n",
    "\n",
    "x = np.array([1,2,3,4, 4, 5, 5, 5,6,7,8,9])\n",
    "np.column_stack([a,b,]).clip(max=4)\n",
    "[*np.where(x>5, 1, 0).view()]"
   ]
  },
  {
   "cell_type": "code",
   "execution_count": 129,
   "metadata": {},
   "outputs": [
    {
     "data": {
      "text/plain": [
       "array([1., 1., 1., 1., 1., 1., 1., 1., 1., 1., 1., 1., 1., 1., 1., 1., 1.,\n",
       "       1., 1., 1., 1., 1., 1., 1., 1., 1., 1., 1., 1., 1., 1., 1., 1., 1.,\n",
       "       1., 1., 1., 1., 1., 1., 1., 1., 1., 1., 1., 1., 1., 1., 1., 1., 0.,\n",
       "       0., 0., 0., 0., 0., 0., 0., 0., 0., 0., 0., 0., 0., 0., 0., 0., 0.,\n",
       "       0., 0., 0., 0., 0., 0., 0., 0., 0., 0., 0., 0., 0., 0., 0., 0., 0.,\n",
       "       0., 0., 0., 0., 0., 0., 0., 0., 0., 0., 0., 0., 0., 0., 0.])"
      ]
     },
     "execution_count": 129,
     "metadata": {},
     "output_type": "execute_result"
    }
   ],
   "source": [
    "x = np.array([i for i in range(100)])\n",
    "y = np.select([x<50, x>=50], [1, 0], np.nan)\n",
    "y.view()"
   ]
  }
 ],
 "metadata": {
  "kernelspec": {
   "display_name": "Python 3.10.8 ('spark_env')",
   "language": "python",
   "name": "python3"
  },
  "language_info": {
   "codemirror_mode": {
    "name": "ipython",
    "version": 3
   },
   "file_extension": ".py",
   "mimetype": "text/x-python",
   "name": "python",
   "nbconvert_exporter": "python",
   "pygments_lexer": "ipython3",
   "version": "3.10.8"
  },
  "orig_nbformat": 4,
  "vscode": {
   "interpreter": {
    "hash": "ea8f25c1d3f7bddbd260c3da27a9c8b14acf4b9920da654276c9bda822942c97"
   }
  }
 },
 "nbformat": 4,
 "nbformat_minor": 2
}
