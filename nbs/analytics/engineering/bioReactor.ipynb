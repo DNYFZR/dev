{
 "cells": [
  {
   "cell_type": "markdown",
   "metadata": {},
   "source": [
    "#### bioReactor\n",
    "---"
   ]
  },
  {
   "cell_type": "code",
   "execution_count": 1,
   "metadata": {},
   "outputs": [],
   "source": [
    "#### INPUT DATA ####\n",
    "\n",
    "# Gas properties\n",
    "pressure_in = 1030 #mBar(a)\n",
    "temperature_in = 12 #degC\n",
    "density_in = 1.30 #kg/m3\n",
    "\n",
    "# Reactor properties\n",
    "reactor_biomass = 2500 #mg/l\n",
    "reactor_length = 55.0 #m\n",
    "reactor_width = 30.0 #m\n",
    "reactor_depth = 5.5 #m\n",
    "\n",
    "reactor_volume = reactor_length * reactor_depth * reactor_width\n",
    "\n",
    "# Fluid properties\n",
    "fluid_flow = 250 #ltr/s\n",
    "fluid_alkalinity_in = 200 #mg/l\n",
    "\n",
    "fluid_bod_in = 100 #mg/l\n",
    "fluid_bod_out = 10 #mg/l\n",
    "\n",
    "fluid_nh4_in = 30 #mg/l\n",
    "fluid_nh4_out = 1.0 #mg/l\n",
    "\n",
    "fluid_no3_in = 5.0 #mg/l\n",
    "fluid_no3_out = 0.0 #mg/l\n",
    "\n",
    "fluid_solids_in = 200 #mg/l\n",
    "fluid_solids_out = 75 #mg/l\n",
    "\n",
    "fluid_phosphate_in = 20 #mg/l\n",
    "fluid_phosphate_out = 1.5 #mg/l\n",
    "\n",
    "# Conversion factors\n",
    "factor_bod = 1.00 #kgO2/h\n",
    "factor_nh4 = 4.60 #kgO2/h\n",
    "factor_no3 = -2.83 #kgO2/h\n",
    "factor_biomass = 0.05 #kgO2/h"
   ]
  },
  {
   "cell_type": "code",
   "execution_count": 2,
   "metadata": {},
   "outputs": [
    {
     "name": "stdout",
     "output_type": "stream",
     "text": [
      "Pop. of 78300 based on 8g of ammonia per person per day (SEPA)\n"
     ]
    }
   ],
   "source": [
    "# Oxygen demand \n",
    "def oxygen_demand(factor, concentration_in, concentration_out, flowrate):\n",
    "    return factor * flowrate * (concentration_in - concentration_out) * (3600 / 1e6)\n",
    "    \n",
    "demand_bod = oxygen_demand(factor_bod, fluid_bod_in, fluid_bod_out, fluid_flow)\n",
    "demand_nh4 = oxygen_demand(factor_nh4, fluid_nh4_in, fluid_nh4_out, fluid_flow)\n",
    "demand_no3 = oxygen_demand(factor_no3, fluid_no3_in, fluid_no3_out, fluid_flow)\n",
    "demand_biomass = factor_biomass * reactor_biomass * reactor_volume * 0.001\n",
    "\n",
    "demand_total = demand_bod + demand_nh4 + demand_no3 + demand_biomass\n",
    "\n",
    "reactor_pop = (1000 * 24 / 8) * (demand_nh4 / factor_nh4)\n",
    "print(f'Pop. of {round(reactor_pop)} based on 8g of ammonia per person per day (SEPA)')"
   ]
  },
  {
   "cell_type": "code",
   "execution_count": 22,
   "metadata": {},
   "outputs": [
    {
     "data": {
      "image/png": "[encoded data removed]",
      "text/plain": [
       "<Figure size 432x288 with 1 Axes>"
      ]
     },
     "metadata": {},
     "output_type": "display_data"
    }
   ],
   "source": [
    "# Air demand\n",
    "SOTE = 0.065 * (4 / reactor_depth)**0.25 # 6.5% @ 4m depth corrected\n",
    "reactor_temperature = temperature_in #degC\n",
    "\n",
    "DO_saturation = 0.0035 * reactor_temperature**2 - 0.3365 * reactor_temperature + 14.391 # mg/l\n",
    "DO_setpoint = [0.1 * i for i in range(2, int(8 * DO_saturation),2)]\n",
    "\n",
    "air_demand = {}\n",
    "for i in DO_setpoint:\n",
    "    kla = demand_total / ((DO_saturation - i) * reactor_volume) # per hr (mass_transfer_coefficient)\n",
    "    SOTR = kla * DO_saturation * reactor_volume * 1.024**(reactor_temperature - 20) # kgO2/h\n",
    "    flow_air_mass = SOTR / (SOTE * reactor_depth * 0.228) # kg/h\n",
    "    flow_air_vol = flow_air_mass / density_in\n",
    "\n",
    "    air_demand.update({round(i, 1):flow_air_vol})\n",
    "\n",
    "import matplotlib.pyplot as plt, seaborn as sns\n",
    "sns.set() \n",
    "plt.plot(air_demand.keys(), air_demand.values())\n",
    "plt.ylabel('air demand (m3/h)')\n",
    "plt.xlabel('DO setpoint (mg/l)')\n",
    "plt.title('Reactor Air Demand Profile')\n",
    "plt.show()"
   ]
  },
  {
   "cell_type": "code",
   "execution_count": null,
   "metadata": {},
   "outputs": [
    {
     "name": "stdout",
     "output_type": "stream",
     "text": [
      "Current reactor SRT: 9.5 days\n"
     ]
    }
   ],
   "source": [
    "# Solids & Hydraulic Retention Times\n",
    "removed_solids_conc = 4000 #mg/l\n",
    "removed_solids_rate = 600 #m3/d\n",
    "\n",
    "reactor_srt = (reactor_volume * reactor_biomass) / (removed_solids_conc * removed_solids_rate) #days\n",
    "reactor_hrt = reactor_volume / (fluid_flow * 3.6) #hr\n",
    "\n",
    "# biomass\n",
    "biomass_active = (0.99 * 24 * (demand_bod / factor_bod)) * reactor_srt / (1 + 0.24 * reactor_srt * 1.029**(reactor_temperature - 20)) # kg VSS\n",
    "biomass_endogenous = 0.2 * biomass_active * 0.24 * reactor_srt * 1.029**(reactor_temperature - 20)# kg VSS\n",
    "biomass_inert = 2.5 * reactor_srt * 24 * (demand_bod / factor_bod) * 0.13 / 1.48 # kg VSS\n",
    "biomass_dosing = 6000 # kg SS to be added with calcs\n",
    "\n",
    "biomass_total = biomass_active + biomass_endogenous + biomass_inert + biomass_dosing\n",
    "reactor_fm_ratio = 24 * demand_bod / (factor_bod * biomass_total) #kg BOD / kg MLSS\n",
    "\n",
    "biomass_surplus = 1000 * biomass_total / (reactor_srt * removed_solids_conc) # m3/d\n",
    "\n",
    "biomass_surplus_var = removed_solids_rate - biomass_surplus\n",
    "\n",
    "# Goal-seek waste rate...\n",
    "\n",
    "        \n",
    "\n",
    "\n",
    "\n",
    "print(f'Current reactor SRT: {round(reactor_srt, 1)} days')"
   ]
  },
  {
   "cell_type": "code",
   "execution_count": null,
   "metadata": {},
   "outputs": [],
   "source": []
  }
 ],
 "metadata": {
  "kernelspec": {
   "display_name": "Python 3.10.6 64-bit",
   "language": "python",
   "name": "python3"
  },
  "language_info": {
   "codemirror_mode": {
    "name": "ipython",
    "version": 3
   },
   "file_extension": ".py",
   "mimetype": "text/x-python",
   "name": "python",
   "nbconvert_exporter": "python",
   "pygments_lexer": "ipython3",
   "version": "3.10.6"
  },
  "orig_nbformat": 4,
  "vscode": {
   "interpreter": {
    "hash": "9b4d75ac280b6c7c3aa43866cb82dc88915409b55fec83a093dd0284cb58708e"
   }
  }
 },
 "nbformat": 4,
 "nbformat_minor": 2
}
